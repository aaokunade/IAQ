{
 "cells": [
  {
   "cell_type": "code",
   "execution_count": 122,
   "metadata": {},
   "outputs": [],
   "source": [
    "#import the libraries\n",
    "import pandas as pd\n",
    "import numpy as np\n",
    "from datetime import datetime as dt\n",
    "from sklearn.ensemble import RandomForestRegressor\n",
    "from sklearn.preprocessing import StandardScaler\n",
    "from sklearn import metrics"
   ]
  },
  {
   "cell_type": "code",
   "execution_count": 2,
   "metadata": {},
   "outputs": [],
   "source": [
    "# IAQ Data Exploration\n",
    "\n",
    "#import the data\n",
    "fileStr = 'Mantes la jolie Inside (inside) (48.990902 1.71929) Primary 60_minute_average 3_11_2019 10_25_2020.csv'\n",
    "\n",
    "custom_parser = lambda date: dt.strptime(date, '%Y-%m-%d %H:%M:%S UTC')\n",
    "\n",
    "df_data = pd.read_csv(fileStr, parse_dates=['created_at'], date_parser=custom_parser)"
   ]
  },
  {
   "cell_type": "code",
   "execution_count": 3,
   "metadata": {},
   "outputs": [
    {
     "data": {
      "text/html": [
       "<div>\n",
       "<style scoped>\n",
       "    .dataframe tbody tr th:only-of-type {\n",
       "        vertical-align: middle;\n",
       "    }\n",
       "\n",
       "    .dataframe tbody tr th {\n",
       "        vertical-align: top;\n",
       "    }\n",
       "\n",
       "    .dataframe thead th {\n",
       "        text-align: right;\n",
       "    }\n",
       "</style>\n",
       "<table border=\"1\" class=\"dataframe\">\n",
       "  <thead>\n",
       "    <tr style=\"text-align: right;\">\n",
       "      <th></th>\n",
       "      <th>PM1.0_CF1_ug/m3</th>\n",
       "      <th>PM2.5_CF1_ug/m3</th>\n",
       "      <th>PM10.0_CF1_ug/m3</th>\n",
       "      <th>UptimeMinutes</th>\n",
       "      <th>RSSI_dbm</th>\n",
       "      <th>Temperature_F</th>\n",
       "      <th>Humidity_%</th>\n",
       "      <th>PM2.5_ATM_ug/m3</th>\n",
       "      <th>Unnamed: 9</th>\n",
       "    </tr>\n",
       "  </thead>\n",
       "  <tbody>\n",
       "    <tr>\n",
       "      <th>count</th>\n",
       "      <td>9983.000000</td>\n",
       "      <td>9983.000000</td>\n",
       "      <td>9983.000000</td>\n",
       "      <td>9983.000000</td>\n",
       "      <td>9983.000000</td>\n",
       "      <td>9983.000000</td>\n",
       "      <td>9983.000000</td>\n",
       "      <td>9983.000000</td>\n",
       "      <td>0.0</td>\n",
       "    </tr>\n",
       "    <tr>\n",
       "      <th>mean</th>\n",
       "      <td>4.103229</td>\n",
       "      <td>6.169224</td>\n",
       "      <td>7.055959</td>\n",
       "      <td>25006.658975</td>\n",
       "      <td>-60.197330</td>\n",
       "      <td>82.579285</td>\n",
       "      <td>31.105014</td>\n",
       "      <td>6.031272</td>\n",
       "      <td>NaN</td>\n",
       "    </tr>\n",
       "    <tr>\n",
       "      <th>std</th>\n",
       "      <td>5.136841</td>\n",
       "      <td>7.329539</td>\n",
       "      <td>8.010919</td>\n",
       "      <td>19749.664939</td>\n",
       "      <td>3.771609</td>\n",
       "      <td>4.915265</td>\n",
       "      <td>5.346126</td>\n",
       "      <td>6.361829</td>\n",
       "      <td>NaN</td>\n",
       "    </tr>\n",
       "    <tr>\n",
       "      <th>min</th>\n",
       "      <td>0.000000</td>\n",
       "      <td>0.000000</td>\n",
       "      <td>0.030000</td>\n",
       "      <td>1.900000</td>\n",
       "      <td>-74.170000</td>\n",
       "      <td>66.100000</td>\n",
       "      <td>16.000000</td>\n",
       "      <td>0.000000</td>\n",
       "      <td>NaN</td>\n",
       "    </tr>\n",
       "    <tr>\n",
       "      <th>25%</th>\n",
       "      <td>1.150000</td>\n",
       "      <td>2.160000</td>\n",
       "      <td>2.750000</td>\n",
       "      <td>8143.000000</td>\n",
       "      <td>-62.030000</td>\n",
       "      <td>78.970000</td>\n",
       "      <td>27.370000</td>\n",
       "      <td>2.160000</td>\n",
       "      <td>NaN</td>\n",
       "    </tr>\n",
       "    <tr>\n",
       "      <th>50%</th>\n",
       "      <td>2.430000</td>\n",
       "      <td>3.830000</td>\n",
       "      <td>4.550000</td>\n",
       "      <td>19623.000000</td>\n",
       "      <td>-59.200000</td>\n",
       "      <td>82.230000</td>\n",
       "      <td>31.000000</td>\n",
       "      <td>3.830000</td>\n",
       "      <td>NaN</td>\n",
       "    </tr>\n",
       "    <tr>\n",
       "      <th>75%</th>\n",
       "      <td>5.130000</td>\n",
       "      <td>7.510000</td>\n",
       "      <td>8.590000</td>\n",
       "      <td>39147.000000</td>\n",
       "      <td>-57.470000</td>\n",
       "      <td>85.800000</td>\n",
       "      <td>35.000000</td>\n",
       "      <td>7.500000</td>\n",
       "      <td>NaN</td>\n",
       "    </tr>\n",
       "    <tr>\n",
       "      <th>max</th>\n",
       "      <td>75.210000</td>\n",
       "      <td>113.180000</td>\n",
       "      <td>150.690000</td>\n",
       "      <td>71503.000000</td>\n",
       "      <td>-37.000000</td>\n",
       "      <td>101.300000</td>\n",
       "      <td>46.270000</td>\n",
       "      <td>75.990000</td>\n",
       "      <td>NaN</td>\n",
       "    </tr>\n",
       "  </tbody>\n",
       "</table>\n",
       "</div>"
      ],
      "text/plain": [
       "       PM1.0_CF1_ug/m3  PM2.5_CF1_ug/m3  PM10.0_CF1_ug/m3  UptimeMinutes  \\\n",
       "count      9983.000000      9983.000000       9983.000000    9983.000000   \n",
       "mean          4.103229         6.169224          7.055959   25006.658975   \n",
       "std           5.136841         7.329539          8.010919   19749.664939   \n",
       "min           0.000000         0.000000          0.030000       1.900000   \n",
       "25%           1.150000         2.160000          2.750000    8143.000000   \n",
       "50%           2.430000         3.830000          4.550000   19623.000000   \n",
       "75%           5.130000         7.510000          8.590000   39147.000000   \n",
       "max          75.210000       113.180000        150.690000   71503.000000   \n",
       "\n",
       "          RSSI_dbm  Temperature_F   Humidity_%  PM2.5_ATM_ug/m3  Unnamed: 9  \n",
       "count  9983.000000    9983.000000  9983.000000      9983.000000         0.0  \n",
       "mean    -60.197330      82.579285    31.105014         6.031272         NaN  \n",
       "std       3.771609       4.915265     5.346126         6.361829         NaN  \n",
       "min     -74.170000      66.100000    16.000000         0.000000         NaN  \n",
       "25%     -62.030000      78.970000    27.370000         2.160000         NaN  \n",
       "50%     -59.200000      82.230000    31.000000         3.830000         NaN  \n",
       "75%     -57.470000      85.800000    35.000000         7.500000         NaN  \n",
       "max     -37.000000     101.300000    46.270000        75.990000         NaN  "
      ]
     },
     "execution_count": 3,
     "metadata": {},
     "output_type": "execute_result"
    }
   ],
   "source": [
    "df_data.describe()"
   ]
  },
  {
   "cell_type": "code",
   "execution_count": 4,
   "metadata": {},
   "outputs": [
    {
     "name": "stdout",
     "output_type": "stream",
     "text": [
      "<class 'pandas.core.frame.DataFrame'>\n",
      "RangeIndex: 10054 entries, 0 to 10053\n",
      "Data columns (total 10 columns):\n",
      " #   Column            Non-Null Count  Dtype         \n",
      "---  ------            --------------  -----         \n",
      " 0   created_at        10054 non-null  datetime64[ns]\n",
      " 1   PM1.0_CF1_ug/m3   9983 non-null   float64       \n",
      " 2   PM2.5_CF1_ug/m3   9983 non-null   float64       \n",
      " 3   PM10.0_CF1_ug/m3  9983 non-null   float64       \n",
      " 4   UptimeMinutes     9983 non-null   float64       \n",
      " 5   RSSI_dbm          9983 non-null   float64       \n",
      " 6   Temperature_F     9983 non-null   float64       \n",
      " 7   Humidity_%        9983 non-null   float64       \n",
      " 8   PM2.5_ATM_ug/m3   9983 non-null   float64       \n",
      " 9   Unnamed: 9        0 non-null      float64       \n",
      "dtypes: datetime64[ns](1), float64(9)\n",
      "memory usage: 785.6 KB\n"
     ]
    }
   ],
   "source": [
    "df_data.info()"
   ]
  },
  {
   "cell_type": "code",
   "execution_count": 5,
   "metadata": {},
   "outputs": [
    {
     "data": {
      "text/html": [
       "<div>\n",
       "<style scoped>\n",
       "    .dataframe tbody tr th:only-of-type {\n",
       "        vertical-align: middle;\n",
       "    }\n",
       "\n",
       "    .dataframe tbody tr th {\n",
       "        vertical-align: top;\n",
       "    }\n",
       "\n",
       "    .dataframe thead th {\n",
       "        text-align: right;\n",
       "    }\n",
       "</style>\n",
       "<table border=\"1\" class=\"dataframe\">\n",
       "  <thead>\n",
       "    <tr style=\"text-align: right;\">\n",
       "      <th></th>\n",
       "      <th>created_at</th>\n",
       "      <th>PM1.0_CF1_ug/m3</th>\n",
       "      <th>PM2.5_CF1_ug/m3</th>\n",
       "      <th>PM10.0_CF1_ug/m3</th>\n",
       "      <th>UptimeMinutes</th>\n",
       "      <th>RSSI_dbm</th>\n",
       "      <th>Temperature_F</th>\n",
       "      <th>Humidity_%</th>\n",
       "      <th>PM2.5_ATM_ug/m3</th>\n",
       "      <th>Unnamed: 9</th>\n",
       "    </tr>\n",
       "  </thead>\n",
       "  <tbody>\n",
       "    <tr>\n",
       "      <th>0</th>\n",
       "      <td>2019-03-11 15:00:00</td>\n",
       "      <td>1.72</td>\n",
       "      <td>4.36</td>\n",
       "      <td>4.59</td>\n",
       "      <td>1.90</td>\n",
       "      <td>-41.90</td>\n",
       "      <td>66.10</td>\n",
       "      <td>26.50</td>\n",
       "      <td>4.36</td>\n",
       "      <td>NaN</td>\n",
       "    </tr>\n",
       "    <tr>\n",
       "      <th>1</th>\n",
       "      <td>2019-03-11 16:00:00</td>\n",
       "      <td>28.74</td>\n",
       "      <td>78.08</td>\n",
       "      <td>122.29</td>\n",
       "      <td>20.12</td>\n",
       "      <td>-37.00</td>\n",
       "      <td>74.15</td>\n",
       "      <td>21.45</td>\n",
       "      <td>53.16</td>\n",
       "      <td>NaN</td>\n",
       "    </tr>\n",
       "    <tr>\n",
       "      <th>2</th>\n",
       "      <td>2019-03-12 14:00:00</td>\n",
       "      <td>31.89</td>\n",
       "      <td>93.42</td>\n",
       "      <td>150.69</td>\n",
       "      <td>15.03</td>\n",
       "      <td>-50.92</td>\n",
       "      <td>71.83</td>\n",
       "      <td>22.94</td>\n",
       "      <td>64.02</td>\n",
       "      <td>NaN</td>\n",
       "    </tr>\n",
       "    <tr>\n",
       "      <th>3</th>\n",
       "      <td>2019-03-12 15:00:00</td>\n",
       "      <td>0.13</td>\n",
       "      <td>0.26</td>\n",
       "      <td>0.26</td>\n",
       "      <td>42.00</td>\n",
       "      <td>-51.88</td>\n",
       "      <td>75.62</td>\n",
       "      <td>21.00</td>\n",
       "      <td>0.26</td>\n",
       "      <td>NaN</td>\n",
       "    </tr>\n",
       "    <tr>\n",
       "      <th>4</th>\n",
       "      <td>2020-03-28 09:00:00</td>\n",
       "      <td>34.77</td>\n",
       "      <td>52.74</td>\n",
       "      <td>57.56</td>\n",
       "      <td>11.22</td>\n",
       "      <td>-53.39</td>\n",
       "      <td>73.13</td>\n",
       "      <td>30.74</td>\n",
       "      <td>40.19</td>\n",
       "      <td>NaN</td>\n",
       "    </tr>\n",
       "  </tbody>\n",
       "</table>\n",
       "</div>"
      ],
      "text/plain": [
       "           created_at  PM1.0_CF1_ug/m3  PM2.5_CF1_ug/m3  PM10.0_CF1_ug/m3  \\\n",
       "0 2019-03-11 15:00:00             1.72             4.36              4.59   \n",
       "1 2019-03-11 16:00:00            28.74            78.08            122.29   \n",
       "2 2019-03-12 14:00:00            31.89            93.42            150.69   \n",
       "3 2019-03-12 15:00:00             0.13             0.26              0.26   \n",
       "4 2020-03-28 09:00:00            34.77            52.74             57.56   \n",
       "\n",
       "   UptimeMinutes  RSSI_dbm  Temperature_F  Humidity_%  PM2.5_ATM_ug/m3  \\\n",
       "0           1.90    -41.90          66.10       26.50             4.36   \n",
       "1          20.12    -37.00          74.15       21.45            53.16   \n",
       "2          15.03    -50.92          71.83       22.94            64.02   \n",
       "3          42.00    -51.88          75.62       21.00             0.26   \n",
       "4          11.22    -53.39          73.13       30.74            40.19   \n",
       "\n",
       "   Unnamed: 9  \n",
       "0         NaN  \n",
       "1         NaN  \n",
       "2         NaN  \n",
       "3         NaN  \n",
       "4         NaN  "
      ]
     },
     "execution_count": 5,
     "metadata": {},
     "output_type": "execute_result"
    }
   ],
   "source": [
    "df_data.head(5)"
   ]
  },
  {
   "cell_type": "code",
   "execution_count": 6,
   "metadata": {},
   "outputs": [],
   "source": [
    "df_data['day'] = df_data['created_at'].dt.day\n",
    "df_data['month'] = df_data['created_at'].dt.month\n",
    "df_data['year'] = df_data['created_at'].dt.year"
   ]
  },
  {
   "cell_type": "code",
   "execution_count": 7,
   "metadata": {},
   "outputs": [
    {
     "data": {
      "text/plain": [
       "0    11\n",
       "1    11\n",
       "2    12\n",
       "3    12\n",
       "4    28\n",
       "Name: day, dtype: int64"
      ]
     },
     "execution_count": 7,
     "metadata": {},
     "output_type": "execute_result"
    }
   ],
   "source": [
    "df_data['day'].head() "
   ]
  },
  {
   "cell_type": "code",
   "execution_count": 8,
   "metadata": {},
   "outputs": [],
   "source": [
    "#drop unnamed column\n",
    "df_data.drop('Unnamed: 9', axis=1, inplace=True)\n",
    "# df_data.sample()"
   ]
  },
  {
   "cell_type": "code",
   "execution_count": 9,
   "metadata": {},
   "outputs": [],
   "source": [
    "#is it weekend or not?\n",
    "df_data['dayOfWeek'] = (df_data['created_at'].dt.dayofweek // 5 ==1).astype(float)"
   ]
  },
  {
   "cell_type": "code",
   "execution_count": 10,
   "metadata": {},
   "outputs": [],
   "source": [
    "#is it weekend or not?\n",
    "df_data['hour'] = df_data['created_at'].dt.hour"
   ]
  },
  {
   "cell_type": "code",
   "execution_count": 11,
   "metadata": {},
   "outputs": [
    {
     "data": {
      "text/plain": [
       "4283    21\n",
       "6021     7\n",
       "9541    23\n",
       "3651    13\n",
       "7316     6\n",
       "Name: hour, dtype: int64"
      ]
     },
     "execution_count": 11,
     "metadata": {},
     "output_type": "execute_result"
    }
   ],
   "source": [
    "df_data['hour'].sample(5)"
   ]
  },
  {
   "cell_type": "code",
   "execution_count": 12,
   "metadata": {},
   "outputs": [],
   "source": [
    "#create time of the day\n",
    "timeOfDay = {'earlyMorning':0, 'morning':1, 'afternoon':2, 'night':3}\n",
    "df_data['timeOfDay'] = 0\n",
    "df_data.loc[(df_data['hour'] > 0) & (df_data['hour'] <= 6), 'timeOfDay'] = 0;\n",
    "df_data.loc[(df_data['hour'] > 6) & (df_data['hour'] <= 12), 'timeOfDay'] = 1;\n",
    "df_data.loc[(df_data['hour'] > 13) & (df_data['hour'] <= 18), 'timeOfDay'] = 2;\n",
    "df_data.loc[(df_data['hour'] > 18) & (df_data['hour'] <= 23), 'timeOfDay'] = 3;"
   ]
  },
  {
   "cell_type": "code",
   "execution_count": 13,
   "metadata": {},
   "outputs": [
    {
     "name": "stdout",
     "output_type": "stream",
     "text": [
      "<class 'pandas.core.frame.DataFrame'>\n",
      "RangeIndex: 10054 entries, 0 to 10053\n",
      "Data columns (total 15 columns):\n",
      " #   Column            Non-Null Count  Dtype         \n",
      "---  ------            --------------  -----         \n",
      " 0   created_at        10054 non-null  datetime64[ns]\n",
      " 1   PM1.0_CF1_ug/m3   9983 non-null   float64       \n",
      " 2   PM2.5_CF1_ug/m3   9983 non-null   float64       \n",
      " 3   PM10.0_CF1_ug/m3  9983 non-null   float64       \n",
      " 4   UptimeMinutes     9983 non-null   float64       \n",
      " 5   RSSI_dbm          9983 non-null   float64       \n",
      " 6   Temperature_F     9983 non-null   float64       \n",
      " 7   Humidity_%        9983 non-null   float64       \n",
      " 8   PM2.5_ATM_ug/m3   9983 non-null   float64       \n",
      " 9   day               10054 non-null  int64         \n",
      " 10  month             10054 non-null  int64         \n",
      " 11  year              10054 non-null  int64         \n",
      " 12  dayOfWeek         10054 non-null  float64       \n",
      " 13  hour              10054 non-null  int64         \n",
      " 14  timeOfDay         10054 non-null  int64         \n",
      "dtypes: datetime64[ns](1), float64(9), int64(5)\n",
      "memory usage: 1.2 MB\n"
     ]
    }
   ],
   "source": [
    "df_data.info()"
   ]
  },
  {
   "cell_type": "code",
   "execution_count": 16,
   "metadata": {},
   "outputs": [
    {
     "data": {
      "text/plain": [
       "0    0.0\n",
       "1    0.0\n",
       "2    0.0\n",
       "3    0.0\n",
       "4    1.0\n",
       "Name: dayOfWeek, dtype: float64"
      ]
     },
     "execution_count": 16,
     "metadata": {},
     "output_type": "execute_result"
    }
   ],
   "source": [
    "df_data['dayOfWeek'].head()"
   ]
  },
  {
   "cell_type": "code",
   "execution_count": 39,
   "metadata": {},
   "outputs": [],
   "source": [
    "df_PM = df_data['PM2.5_CF1_ug/m3']"
   ]
  },
  {
   "cell_type": "code",
   "execution_count": 64,
   "metadata": {},
   "outputs": [],
   "source": [
    "#concatenate data \n",
    "dataFrame_PM = pd.concat([df_data['dayOfWeek'], df_data['timeOfDay'], df_PM.shift(2), df_PM.shift(1), df_PM], axis=1)\n",
    "\n",
    "dataFrame_PM.columns = ['dayOfWeek','timeOfDay', 'PM_lag2', 'PM_lag1', 'PM2.5' ]"
   ]
  },
  {
   "cell_type": "code",
   "execution_count": 65,
   "metadata": {},
   "outputs": [
    {
     "data": {
      "text/html": [
       "<div>\n",
       "<style scoped>\n",
       "    .dataframe tbody tr th:only-of-type {\n",
       "        vertical-align: middle;\n",
       "    }\n",
       "\n",
       "    .dataframe tbody tr th {\n",
       "        vertical-align: top;\n",
       "    }\n",
       "\n",
       "    .dataframe thead th {\n",
       "        text-align: right;\n",
       "    }\n",
       "</style>\n",
       "<table border=\"1\" class=\"dataframe\">\n",
       "  <thead>\n",
       "    <tr style=\"text-align: right;\">\n",
       "      <th></th>\n",
       "      <th>dayOfWeek</th>\n",
       "      <th>timeOfDay</th>\n",
       "      <th>PM_lag2</th>\n",
       "      <th>PM_lag1</th>\n",
       "      <th>PM2.5</th>\n",
       "    </tr>\n",
       "  </thead>\n",
       "  <tbody>\n",
       "    <tr>\n",
       "      <th>2</th>\n",
       "      <td>0.0</td>\n",
       "      <td>2</td>\n",
       "      <td>4.36</td>\n",
       "      <td>78.08</td>\n",
       "      <td>93.42</td>\n",
       "    </tr>\n",
       "    <tr>\n",
       "      <th>3</th>\n",
       "      <td>0.0</td>\n",
       "      <td>2</td>\n",
       "      <td>78.08</td>\n",
       "      <td>93.42</td>\n",
       "      <td>0.26</td>\n",
       "    </tr>\n",
       "    <tr>\n",
       "      <th>4</th>\n",
       "      <td>1.0</td>\n",
       "      <td>1</td>\n",
       "      <td>93.42</td>\n",
       "      <td>0.26</td>\n",
       "      <td>52.74</td>\n",
       "    </tr>\n",
       "    <tr>\n",
       "      <th>5</th>\n",
       "      <td>1.0</td>\n",
       "      <td>1</td>\n",
       "      <td>0.26</td>\n",
       "      <td>52.74</td>\n",
       "      <td>80.49</td>\n",
       "    </tr>\n",
       "    <tr>\n",
       "      <th>6</th>\n",
       "      <td>1.0</td>\n",
       "      <td>1</td>\n",
       "      <td>52.74</td>\n",
       "      <td>80.49</td>\n",
       "      <td>76.00</td>\n",
       "    </tr>\n",
       "  </tbody>\n",
       "</table>\n",
       "</div>"
      ],
      "text/plain": [
       "   dayOfWeek  timeOfDay  PM_lag2  PM_lag1  PM2.5\n",
       "2        0.0          2     4.36    78.08  93.42\n",
       "3        0.0          2    78.08    93.42   0.26\n",
       "4        1.0          1    93.42     0.26  52.74\n",
       "5        1.0          1     0.26    52.74  80.49\n",
       "6        1.0          1    52.74    80.49  76.00"
      ]
     },
     "execution_count": 65,
     "metadata": {},
     "output_type": "execute_result"
    }
   ],
   "source": [
    "#drop rows\n",
    "dataFrame_PM = dataFrame_PM.dropna()\n",
    "dataFrame_PM.head()"
   ]
  },
  {
   "cell_type": "code",
   "execution_count": 94,
   "metadata": {},
   "outputs": [],
   "source": [
    "#extract the train and test part\n",
    "trainSize = int(len(dataFrame_PM)* 0.75)\n",
    "\n",
    "trainSet, testSet = dataFrame_PM.iloc[0: trainSize], dataFrame_PM.iloc[trainSize:len(dataFrame_PM)]"
   ]
  },
  {
   "cell_type": "code",
   "execution_count": 100,
   "metadata": {},
   "outputs": [
    {
     "name": "stdout",
     "output_type": "stream",
     "text": [
      "Total Observations: 9969\n",
      "Training Observations: 7476\n",
      "Testing Observations: 2493\n"
     ]
    }
   ],
   "source": [
    "#print sizes\n",
    "print('Total Observations: {}'.format(len(dataFrame_PM)))\n",
    "\n",
    "print('Training Observations: {}'.format(len(trainSet)))\n",
    "\n",
    "print('Testing Observations: {}'.format(len(testSet)))"
   ]
  },
  {
   "cell_type": "code",
   "execution_count": 117,
   "metadata": {},
   "outputs": [],
   "source": [
    "predictors = ['dayOfWeek', 'timeOfDay', 'PM_lag2', 'PM_lag1']\n",
    "target = ['PM2.5']\n",
    "\n",
    "X_train, X_test, y_train, y_test = trainSet[predictors].values, testSet[predictors].values, trainSet[target].values, testSet[target].values"
   ]
  },
  {
   "cell_type": "code",
   "execution_count": null,
   "metadata": {},
   "outputs": [],
   "source": []
  },
  {
   "cell_type": "code",
   "execution_count": 118,
   "metadata": {},
   "outputs": [],
   "source": [
    "#use random forest\n",
    "regressor = RandomForestRegressor(n_estimators=20, random_state=0)\n",
    "regressor.fit(X_train, y_train.ravel())\n",
    "y_pred = regressor.predict(X_test)"
   ]
  },
  {
   "cell_type": "code",
   "execution_count": 121,
   "metadata": {},
   "outputs": [
    {
     "name": "stdout",
     "output_type": "stream",
     "text": [
      "Mean Absolute Error: 1.9523499763623864\n",
      "Mean Squared Error: 38.03315313742697\n",
      "Root Mean Squared Error: 6.167102491237435\n"
     ]
    }
   ],
   "source": [
    "print('Mean Absolute Error:', metrics.mean_absolute_error(y_test, y_pred))\n",
    "print('Mean Squared Error:', metrics.mean_squared_error(y_test, y_pred))\n",
    "print('Root Mean Squared Error:', np.sqrt(metrics.mean_squared_error(y_test, y_pred)))"
   ]
  },
  {
   "cell_type": "code",
   "execution_count": null,
   "metadata": {},
   "outputs": [],
   "source": []
  }
 ],
 "metadata": {
  "kernelspec": {
   "display_name": "Python 3",
   "language": "python",
   "name": "python3"
  },
  "language_info": {
   "codemirror_mode": {
    "name": "ipython",
    "version": 3
   },
   "file_extension": ".py",
   "mimetype": "text/x-python",
   "name": "python",
   "nbconvert_exporter": "python",
   "pygments_lexer": "ipython3",
   "version": "3.7.7"
  }
 },
 "nbformat": 4,
 "nbformat_minor": 4
}
