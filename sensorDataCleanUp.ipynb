{
 "cells": [
  {
   "cell_type": "code",
   "execution_count": 11,
   "metadata": {},
   "outputs": [],
   "source": [
    "import pandas as pd\n",
    "from datetime import datetime as dt"
   ]
  },
  {
   "cell_type": "code",
   "execution_count": 32,
   "metadata": {},
   "outputs": [],
   "source": [
    "sensors = [25879, 8510, 61397, 33729, 59391]\n"
   ]
  },
  {
   "cell_type": "code",
   "execution_count": 34,
   "metadata": {},
   "outputs": [],
   "source": [
    "for sensor in sensors:\n",
    "    fileStr = \"sensorData/\" + str(sensor) + \".csv\"\n",
    "    custom_parser = lambda date: dt.strptime(date, '%Y-%m-%d %H:%M:%S UTC')\n",
    "    sensorDf = pd.read_csv(fileStr, parse_dates=['created_at'], date_parser=custom_parser)\n",
    "    sensorDf = sensorDf.drop_duplicates(subset=[\"created_at\"], keep='last')\n",
    "    sensorDf\n",
    "    "
   ]
  },
  {
   "cell_type": "code",
   "execution_count": 35,
   "metadata": {},
   "outputs": [
    {
     "name": "stdout",
     "output_type": "stream",
     "text": [
      "<class 'pandas.core.frame.DataFrame'>\n",
      "Int64Index: 595 entries, 0 to 1013\n",
      "Data columns (total 10 columns):\n",
      " #   Column            Non-Null Count  Dtype         \n",
      "---  ------            --------------  -----         \n",
      " 0   created_at        595 non-null    datetime64[ns]\n",
      " 1   PM1.0_CF1_ug/m3   595 non-null    float64       \n",
      " 2   PM2.5_CF1_ug/m3   595 non-null    float64       \n",
      " 3   PM10.0_CF1_ug/m3  595 non-null    float64       \n",
      " 4   UptimeMinutes     595 non-null    float64       \n",
      " 5   RSSI_dbm          595 non-null    float64       \n",
      " 6   Temperature_F     590 non-null    float64       \n",
      " 7   Humidity_%        590 non-null    float64       \n",
      " 8   PM2.5_ATM_ug/m3   595 non-null    float64       \n",
      " 9   Unnamed: 9        0 non-null      float64       \n",
      "dtypes: datetime64[ns](1), float64(9)\n",
      "memory usage: 51.1 KB\n"
     ]
    }
   ],
   "source": [
    "sensorDf.info()"
   ]
  },
  {
   "cell_type": "code",
   "execution_count": null,
   "metadata": {},
   "outputs": [],
   "source": []
  }
 ],
 "metadata": {
  "kernelspec": {
   "display_name": "Python 3",
   "language": "python",
   "name": "python3"
  },
  "language_info": {
   "codemirror_mode": {
    "name": "ipython",
    "version": 3
   },
   "file_extension": ".py",
   "mimetype": "text/x-python",
   "name": "python",
   "nbconvert_exporter": "python",
   "pygments_lexer": "ipython3",
   "version": "3.7.7"
  }
 },
 "nbformat": 4,
 "nbformat_minor": 4
}
