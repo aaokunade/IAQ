{
 "cells": [
  {
   "cell_type": "code",
   "execution_count": 48,
   "metadata": {},
   "outputs": [],
   "source": [
    "import pandas as pd\n",
    "from datetime import timedelta, datetime as dt"
   ]
  },
  {
   "cell_type": "code",
   "execution_count": 32,
   "metadata": {},
   "outputs": [],
   "source": [
    "sensors = [25879, 8510]\n"
   ]
  },
  {
   "cell_type": "code",
   "execution_count": 131,
   "metadata": {},
   "outputs": [
    {
     "data": {
      "text/html": [
       "<div>\n",
       "<style scoped>\n",
       "    .dataframe tbody tr th:only-of-type {\n",
       "        vertical-align: middle;\n",
       "    }\n",
       "\n",
       "    .dataframe tbody tr th {\n",
       "        vertical-align: top;\n",
       "    }\n",
       "\n",
       "    .dataframe thead th {\n",
       "        text-align: right;\n",
       "    }\n",
       "</style>\n",
       "<table border=\"1\" class=\"dataframe\">\n",
       "  <thead>\n",
       "    <tr style=\"text-align: right;\">\n",
       "      <th></th>\n",
       "      <th>PM1.0_CF1_ug/m3</th>\n",
       "      <th>PM2.5_CF1_ug/m3</th>\n",
       "      <th>PM10.0_CF1_ug/m3</th>\n",
       "      <th>UptimeMinutes</th>\n",
       "      <th>RSSI_dbm</th>\n",
       "      <th>Temperature_F</th>\n",
       "      <th>Humidity_%</th>\n",
       "      <th>PM2.5_ATM_ug/m3</th>\n",
       "    </tr>\n",
       "    <tr>\n",
       "      <th>created_at</th>\n",
       "      <th></th>\n",
       "      <th></th>\n",
       "      <th></th>\n",
       "      <th></th>\n",
       "      <th></th>\n",
       "      <th></th>\n",
       "      <th></th>\n",
       "      <th></th>\n",
       "    </tr>\n",
       "  </thead>\n",
       "  <tbody>\n",
       "    <tr>\n",
       "      <th>2020-09-01</th>\n",
       "      <td>1.29</td>\n",
       "      <td>2.57</td>\n",
       "      <td>3.44</td>\n",
       "      <td>23529.00</td>\n",
       "      <td>-35.81</td>\n",
       "      <td>89.61</td>\n",
       "      <td>29.70</td>\n",
       "      <td>2.39</td>\n",
       "    </tr>\n",
       "    <tr>\n",
       "      <th>2020-09-02</th>\n",
       "      <td>0.14</td>\n",
       "      <td>0.47</td>\n",
       "      <td>0.75</td>\n",
       "      <td>24969.00</td>\n",
       "      <td>-35.71</td>\n",
       "      <td>89.08</td>\n",
       "      <td>32.14</td>\n",
       "      <td>0.47</td>\n",
       "    </tr>\n",
       "    <tr>\n",
       "      <th>2020-09-03</th>\n",
       "      <td>0.09</td>\n",
       "      <td>0.42</td>\n",
       "      <td>0.68</td>\n",
       "      <td>26408.28</td>\n",
       "      <td>-33.35</td>\n",
       "      <td>88.92</td>\n",
       "      <td>30.54</td>\n",
       "      <td>0.42</td>\n",
       "    </tr>\n",
       "    <tr>\n",
       "      <th>2020-09-04</th>\n",
       "      <td>0.06</td>\n",
       "      <td>0.51</td>\n",
       "      <td>0.66</td>\n",
       "      <td>27849.00</td>\n",
       "      <td>-33.20</td>\n",
       "      <td>87.45</td>\n",
       "      <td>31.82</td>\n",
       "      <td>0.40</td>\n",
       "    </tr>\n",
       "    <tr>\n",
       "      <th>2020-09-05</th>\n",
       "      <td>0.03</td>\n",
       "      <td>0.26</td>\n",
       "      <td>0.47</td>\n",
       "      <td>29289.00</td>\n",
       "      <td>-33.16</td>\n",
       "      <td>87.44</td>\n",
       "      <td>30.09</td>\n",
       "      <td>0.26</td>\n",
       "    </tr>\n",
       "  </tbody>\n",
       "</table>\n",
       "</div>"
      ],
      "text/plain": [
       "            PM1.0_CF1_ug/m3  PM2.5_CF1_ug/m3  PM10.0_CF1_ug/m3  UptimeMinutes  \\\n",
       "created_at                                                                      \n",
       "2020-09-01             1.29             2.57              3.44       23529.00   \n",
       "2020-09-02             0.14             0.47              0.75       24969.00   \n",
       "2020-09-03             0.09             0.42              0.68       26408.28   \n",
       "2020-09-04             0.06             0.51              0.66       27849.00   \n",
       "2020-09-05             0.03             0.26              0.47       29289.00   \n",
       "\n",
       "            RSSI_dbm  Temperature_F  Humidity_%  PM2.5_ATM_ug/m3  \n",
       "created_at                                                        \n",
       "2020-09-01    -35.81          89.61       29.70             2.39  \n",
       "2020-09-02    -35.71          89.08       32.14             0.47  \n",
       "2020-09-03    -33.35          88.92       30.54             0.42  \n",
       "2020-09-04    -33.20          87.45       31.82             0.40  \n",
       "2020-09-05    -33.16          87.44       30.09             0.26  "
      ]
     },
     "execution_count": 131,
     "metadata": {},
     "output_type": "execute_result"
    }
   ],
   "source": [
    "for sensor in sensors:\n",
    "    fileStr = \"sensorData/\" + str(sensor) + \".csv\"\n",
    "    custom_parser = lambda date: dt.strptime(date, '%Y-%m-%d')\n",
    "    sensorDf = pd.read_csv(fileStr, parse_dates=['created_at'], date_parser=custom_parser)\n",
    "    sensorDf = sensorDf.drop_duplicates(subset=[\"created_at\"], keep='first')\n",
    "    sensorDf = sensorDf.set_index('created_at')\n",
    "\n",
    "sensorDf.head()"
   ]
  },
  {
   "cell_type": "code",
   "execution_count": 138,
   "metadata": {},
   "outputs": [
    {
     "name": "stdout",
     "output_type": "stream",
     "text": [
      "['Wednesday', 'Thursday', 'Friday', 'Saturday', 'Sunday', 'Monday', 'Tuesday']\n"
     ]
    }
   ],
   "source": [
    "pollutants = {\"PM1.0\": 0, \"PM2.5\": 1, \"PM10.0\": 2, \"Temperature\": 5, \"Humidity\": 6}\n",
    "\n",
    "dtReq = \"2020-12-01\"\n",
    "\n",
    "start_dt = dt.strptime(dtReq, '%Y-%m-%d')\n",
    "\n",
    "end_dt = start_dt - timedelta(days=6)\n",
    "\n",
    "wk_day = []\n",
    "wk_dates = []\n",
    "\n",
    "def daterange(date1, date2):\n",
    "    for n in range(int ((date2 - date1).days)+1):\n",
    "        yield date1 + timedelta(n)\n",
    "\n",
    "for dt in daterange(end_dt, start_dt):\n",
    "    wk_day.append(dt.strftime(\"%A\"))\n",
    "    wk_dates.append(dt.strftime(\"%Y-%m-%d\"))\n",
    "\n",
    "print(wk_day)\n",
    "#to get the name of the day of the week \n",
    "# dtEnd.strftime(\"%A\")\n",
    "\n",
    "\n",
    "# columns = sensorDf.columns\n",
    "\n",
    "# sensorDf[columns[1]][]\n",
    "\n",
    "# wkData = sensorDf\n",
    "\n"
   ]
  },
  {
   "cell_type": "code",
   "execution_count": 136,
   "metadata": {},
   "outputs": [
    {
     "data": {
      "text/plain": [
       "[33.77, 33.84, 33.58, 34.88, 33.09, 32.98, 32.4]"
      ]
     },
     "execution_count": 136,
     "metadata": {},
     "output_type": "execute_result"
    }
   ],
   "source": [
    "sensorDf.loc[wk_dates[0]: wk_dates[-1],sensorDf.columns[6]].values.tolist()"
   ]
  },
  {
   "cell_type": "code",
   "execution_count": null,
   "metadata": {},
   "outputs": [],
   "source": []
  }
 ],
 "metadata": {
  "kernelspec": {
   "display_name": "Python 3",
   "language": "python",
   "name": "python3"
  },
  "language_info": {
   "codemirror_mode": {
    "name": "ipython",
    "version": 3
   },
   "file_extension": ".py",
   "mimetype": "text/x-python",
   "name": "python",
   "nbconvert_exporter": "python",
   "pygments_lexer": "ipython3",
   "version": "3.7.7"
  }
 },
 "nbformat": 4,
 "nbformat_minor": 4
}
